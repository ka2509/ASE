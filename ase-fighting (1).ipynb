{
 "cells": [
  {
   "cell_type": "markdown",
   "id": "af0def84",
   "metadata": {
    "papermill": {
     "duration": 0.016707,
     "end_time": "2024-05-19T07:59:40.280956",
     "exception": false,
     "start_time": "2024-05-19T07:59:40.264249",
     "status": "completed"
    },
    "tags": []
   },
   "source": [
    "# **Import libraries**"
   ]
  },
  {
   "cell_type": "code",
   "execution_count": 1,
   "id": "1b496355",
   "metadata": {
    "execution": {
     "iopub.execute_input": "2024-05-19T07:59:40.317827Z",
     "iopub.status.busy": "2024-05-19T07:59:40.317115Z",
     "iopub.status.idle": "2024-05-19T07:59:41.290112Z",
     "shell.execute_reply": "2024-05-19T07:59:41.288838Z"
    },
    "papermill": {
     "duration": 0.995298,
     "end_time": "2024-05-19T07:59:41.293048",
     "exception": false,
     "start_time": "2024-05-19T07:59:40.297750",
     "status": "completed"
    },
    "tags": []
   },
   "outputs": [],
   "source": [
    "import pandas as pd\n",
    "import numpy as np\n",
    "import matplotlib.pyplot as plt\n",
    "from spellchecker import SpellChecker"
   ]
  },
  {
   "cell_type": "markdown",
   "id": "88662c97",
   "metadata": {
    "papermill": {
     "duration": 0.016991,
     "end_time": "2024-05-19T07:59:41.326447",
     "exception": false,
     "start_time": "2024-05-19T07:59:41.309456",
     "status": "completed"
    },
    "tags": []
   },
   "source": [
    "# **Load data**"
   ]
  },
  {
   "cell_type": "code",
   "execution_count": 2,
   "id": "404c7d09",
   "metadata": {
    "execution": {
     "iopub.execute_input": "2024-05-19T07:59:41.361489Z",
     "iopub.status.busy": "2024-05-19T07:59:41.360531Z",
     "iopub.status.idle": "2024-05-19T07:59:42.287499Z",
     "shell.execute_reply": "2024-05-19T07:59:42.286282Z"
    },
    "papermill": {
     "duration": 0.9472,
     "end_time": "2024-05-19T07:59:42.290106",
     "exception": false,
     "start_time": "2024-05-19T07:59:41.342906",
     "status": "completed"
    },
    "tags": []
   },
   "outputs": [],
   "source": [
    "train = pd.read_csv('/kaggle/input/learning-agency-lab-automated-essay-scoring-2/train.csv', index_col='essay_id')\n",
    "test = pd.read_csv('/kaggle/input/learning-agency-lab-automated-essay-scoring-2/test.csv', index_col='essay_id')"
   ]
  },
  {
   "cell_type": "code",
   "execution_count": 3,
   "id": "e2c03cea",
   "metadata": {
    "execution": {
     "iopub.execute_input": "2024-05-19T07:59:42.324280Z",
     "iopub.status.busy": "2024-05-19T07:59:42.323844Z",
     "iopub.status.idle": "2024-05-19T07:59:42.342658Z",
     "shell.execute_reply": "2024-05-19T07:59:42.341387Z"
    },
    "papermill": {
     "duration": 0.038767,
     "end_time": "2024-05-19T07:59:42.345131",
     "exception": false,
     "start_time": "2024-05-19T07:59:42.306364",
     "status": "completed"
    },
    "tags": []
   },
   "outputs": [
    {
     "data": {
      "text/html": [
       "<div>\n",
       "<style scoped>\n",
       "    .dataframe tbody tr th:only-of-type {\n",
       "        vertical-align: middle;\n",
       "    }\n",
       "\n",
       "    .dataframe tbody tr th {\n",
       "        vertical-align: top;\n",
       "    }\n",
       "\n",
       "    .dataframe thead th {\n",
       "        text-align: right;\n",
       "    }\n",
       "</style>\n",
       "<table border=\"1\" class=\"dataframe\">\n",
       "  <thead>\n",
       "    <tr style=\"text-align: right;\">\n",
       "      <th></th>\n",
       "      <th>full_text</th>\n",
       "      <th>score</th>\n",
       "    </tr>\n",
       "    <tr>\n",
       "      <th>essay_id</th>\n",
       "      <th></th>\n",
       "      <th></th>\n",
       "    </tr>\n",
       "  </thead>\n",
       "  <tbody>\n",
       "    <tr>\n",
       "      <th>000d118</th>\n",
       "      <td>Many people have car where they live. The thin...</td>\n",
       "      <td>3</td>\n",
       "    </tr>\n",
       "    <tr>\n",
       "      <th>000fe60</th>\n",
       "      <td>I am a scientist at NASA that is discussing th...</td>\n",
       "      <td>3</td>\n",
       "    </tr>\n",
       "    <tr>\n",
       "      <th>001ab80</th>\n",
       "      <td>People always wish they had the same technolog...</td>\n",
       "      <td>4</td>\n",
       "    </tr>\n",
       "    <tr>\n",
       "      <th>001bdc0</th>\n",
       "      <td>We all heard about Venus, the planet without a...</td>\n",
       "      <td>4</td>\n",
       "    </tr>\n",
       "    <tr>\n",
       "      <th>002ba53</th>\n",
       "      <td>Dear, State Senator\\n\\nThis is a letter to arg...</td>\n",
       "      <td>3</td>\n",
       "    </tr>\n",
       "    <tr>\n",
       "      <th>...</th>\n",
       "      <td>...</td>\n",
       "      <td>...</td>\n",
       "    </tr>\n",
       "    <tr>\n",
       "      <th>ffd378d</th>\n",
       "      <td>the story \" The Challenge of Exploing Venus \" ...</td>\n",
       "      <td>2</td>\n",
       "    </tr>\n",
       "    <tr>\n",
       "      <th>ffddf1f</th>\n",
       "      <td>Technology has changed a lot of ways that we l...</td>\n",
       "      <td>4</td>\n",
       "    </tr>\n",
       "    <tr>\n",
       "      <th>fff016d</th>\n",
       "      <td>If you don't like sitting around all day than ...</td>\n",
       "      <td>2</td>\n",
       "    </tr>\n",
       "    <tr>\n",
       "      <th>fffb49b</th>\n",
       "      <td>In \"The Challenge of Exporing Venus,\" the auth...</td>\n",
       "      <td>1</td>\n",
       "    </tr>\n",
       "    <tr>\n",
       "      <th>fffed3e</th>\n",
       "      <td>Venus is worthy place to study but dangerous. ...</td>\n",
       "      <td>2</td>\n",
       "    </tr>\n",
       "  </tbody>\n",
       "</table>\n",
       "<p>17307 rows × 2 columns</p>\n",
       "</div>"
      ],
      "text/plain": [
       "                                                  full_text  score\n",
       "essay_id                                                          \n",
       "000d118   Many people have car where they live. The thin...      3\n",
       "000fe60   I am a scientist at NASA that is discussing th...      3\n",
       "001ab80   People always wish they had the same technolog...      4\n",
       "001bdc0   We all heard about Venus, the planet without a...      4\n",
       "002ba53   Dear, State Senator\\n\\nThis is a letter to arg...      3\n",
       "...                                                     ...    ...\n",
       "ffd378d   the story \" The Challenge of Exploing Venus \" ...      2\n",
       "ffddf1f   Technology has changed a lot of ways that we l...      4\n",
       "fff016d   If you don't like sitting around all day than ...      2\n",
       "fffb49b   In \"The Challenge of Exporing Venus,\" the auth...      1\n",
       "fffed3e   Venus is worthy place to study but dangerous. ...      2\n",
       "\n",
       "[17307 rows x 2 columns]"
      ]
     },
     "execution_count": 3,
     "metadata": {},
     "output_type": "execute_result"
    }
   ],
   "source": [
    "train"
   ]
  },
  {
   "cell_type": "code",
   "execution_count": 4,
   "id": "9312d8f7",
   "metadata": {
    "execution": {
     "iopub.execute_input": "2024-05-19T07:59:42.380033Z",
     "iopub.status.busy": "2024-05-19T07:59:42.379357Z",
     "iopub.status.idle": "2024-05-19T07:59:42.389740Z",
     "shell.execute_reply": "2024-05-19T07:59:42.388516Z"
    },
    "papermill": {
     "duration": 0.030881,
     "end_time": "2024-05-19T07:59:42.392510",
     "exception": false,
     "start_time": "2024-05-19T07:59:42.361629",
     "status": "completed"
    },
    "tags": []
   },
   "outputs": [
    {
     "data": {
      "text/html": [
       "<div>\n",
       "<style scoped>\n",
       "    .dataframe tbody tr th:only-of-type {\n",
       "        vertical-align: middle;\n",
       "    }\n",
       "\n",
       "    .dataframe tbody tr th {\n",
       "        vertical-align: top;\n",
       "    }\n",
       "\n",
       "    .dataframe thead th {\n",
       "        text-align: right;\n",
       "    }\n",
       "</style>\n",
       "<table border=\"1\" class=\"dataframe\">\n",
       "  <thead>\n",
       "    <tr style=\"text-align: right;\">\n",
       "      <th></th>\n",
       "      <th>full_text</th>\n",
       "    </tr>\n",
       "    <tr>\n",
       "      <th>essay_id</th>\n",
       "      <th></th>\n",
       "    </tr>\n",
       "  </thead>\n",
       "  <tbody>\n",
       "    <tr>\n",
       "      <th>000d118</th>\n",
       "      <td>Many people have car where they live. The thin...</td>\n",
       "    </tr>\n",
       "    <tr>\n",
       "      <th>000fe60</th>\n",
       "      <td>I am a scientist at NASA that is discussing th...</td>\n",
       "    </tr>\n",
       "    <tr>\n",
       "      <th>001ab80</th>\n",
       "      <td>People always wish they had the same technolog...</td>\n",
       "    </tr>\n",
       "  </tbody>\n",
       "</table>\n",
       "</div>"
      ],
      "text/plain": [
       "                                                  full_text\n",
       "essay_id                                                   \n",
       "000d118   Many people have car where they live. The thin...\n",
       "000fe60   I am a scientist at NASA that is discussing th...\n",
       "001ab80   People always wish they had the same technolog..."
      ]
     },
     "execution_count": 4,
     "metadata": {},
     "output_type": "execute_result"
    }
   ],
   "source": [
    "test"
   ]
  },
  {
   "cell_type": "markdown",
   "id": "88db95fe",
   "metadata": {
    "papermill": {
     "duration": 0.016655,
     "end_time": "2024-05-19T07:59:42.425987",
     "exception": false,
     "start_time": "2024-05-19T07:59:42.409332",
     "status": "completed"
    },
    "tags": []
   },
   "source": [
    "# **Define target variable and encode it**"
   ]
  },
  {
   "cell_type": "code",
   "execution_count": 5,
   "id": "777a79c3",
   "metadata": {
    "execution": {
     "iopub.execute_input": "2024-05-19T07:59:42.462415Z",
     "iopub.status.busy": "2024-05-19T07:59:42.461985Z",
     "iopub.status.idle": "2024-05-19T07:59:43.647126Z",
     "shell.execute_reply": "2024-05-19T07:59:43.645815Z"
    },
    "papermill": {
     "duration": 1.20641,
     "end_time": "2024-05-19T07:59:43.649926",
     "exception": false,
     "start_time": "2024-05-19T07:59:42.443516",
     "status": "completed"
    },
    "tags": []
   },
   "outputs": [],
   "source": [
    "from sklearn.preprocessing import LabelEncoder\n",
    "le = LabelEncoder()\n",
    "y = le.fit_transform(train['score'])"
   ]
  },
  {
   "cell_type": "markdown",
   "id": "056e1add",
   "metadata": {
    "papermill": {
     "duration": 0.016479,
     "end_time": "2024-05-19T07:59:43.683425",
     "exception": false,
     "start_time": "2024-05-19T07:59:43.666946",
     "status": "completed"
    },
    "tags": []
   },
   "source": [
    "# **Token hóa các đoạn thành list các từ, các dấu**"
   ]
  },
  {
   "cell_type": "code",
   "execution_count": 6,
   "id": "0f04eb47",
   "metadata": {
    "execution": {
     "iopub.execute_input": "2024-05-19T07:59:43.718187Z",
     "iopub.status.busy": "2024-05-19T07:59:43.717725Z",
     "iopub.status.idle": "2024-05-19T08:01:16.822445Z",
     "shell.execute_reply": "2024-05-19T08:01:16.821343Z"
    },
    "papermill": {
     "duration": 93.125422,
     "end_time": "2024-05-19T08:01:16.825305",
     "exception": false,
     "start_time": "2024-05-19T07:59:43.699883",
     "status": "completed"
    },
    "tags": []
   },
   "outputs": [],
   "source": [
    "from nltk.corpus import stopwords\n",
    "from nltk.tokenize import word_tokenize\n",
    "# stop_words = set(stopwords.words('english'))\n",
    "train['tokens'] = train['full_text'].apply(word_tokenize)\n",
    "test['tokens'] = test['full_text'].apply(word_tokenize)"
   ]
  },
  {
   "cell_type": "code",
   "execution_count": 7,
   "id": "5aab1f4f",
   "metadata": {
    "execution": {
     "iopub.execute_input": "2024-05-19T08:01:16.861506Z",
     "iopub.status.busy": "2024-05-19T08:01:16.860795Z",
     "iopub.status.idle": "2024-05-19T08:01:16.885302Z",
     "shell.execute_reply": "2024-05-19T08:01:16.884474Z"
    },
    "papermill": {
     "duration": 0.045248,
     "end_time": "2024-05-19T08:01:16.887901",
     "exception": false,
     "start_time": "2024-05-19T08:01:16.842653",
     "status": "completed"
    },
    "tags": []
   },
   "outputs": [
    {
     "data": {
      "text/html": [
       "<div>\n",
       "<style scoped>\n",
       "    .dataframe tbody tr th:only-of-type {\n",
       "        vertical-align: middle;\n",
       "    }\n",
       "\n",
       "    .dataframe tbody tr th {\n",
       "        vertical-align: top;\n",
       "    }\n",
       "\n",
       "    .dataframe thead th {\n",
       "        text-align: right;\n",
       "    }\n",
       "</style>\n",
       "<table border=\"1\" class=\"dataframe\">\n",
       "  <thead>\n",
       "    <tr style=\"text-align: right;\">\n",
       "      <th></th>\n",
       "      <th>full_text</th>\n",
       "      <th>score</th>\n",
       "      <th>tokens</th>\n",
       "    </tr>\n",
       "    <tr>\n",
       "      <th>essay_id</th>\n",
       "      <th></th>\n",
       "      <th></th>\n",
       "      <th></th>\n",
       "    </tr>\n",
       "  </thead>\n",
       "  <tbody>\n",
       "    <tr>\n",
       "      <th>000d118</th>\n",
       "      <td>Many people have car where they live. The thin...</td>\n",
       "      <td>3</td>\n",
       "      <td>[Many, people, have, car, where, they, live, ....</td>\n",
       "    </tr>\n",
       "    <tr>\n",
       "      <th>000fe60</th>\n",
       "      <td>I am a scientist at NASA that is discussing th...</td>\n",
       "      <td>3</td>\n",
       "      <td>[I, am, a, scientist, at, NASA, that, is, disc...</td>\n",
       "    </tr>\n",
       "    <tr>\n",
       "      <th>001ab80</th>\n",
       "      <td>People always wish they had the same technolog...</td>\n",
       "      <td>4</td>\n",
       "      <td>[People, always, wish, they, had, the, same, t...</td>\n",
       "    </tr>\n",
       "    <tr>\n",
       "      <th>001bdc0</th>\n",
       "      <td>We all heard about Venus, the planet without a...</td>\n",
       "      <td>4</td>\n",
       "      <td>[We, all, heard, about, Venus, ,, the, planet,...</td>\n",
       "    </tr>\n",
       "    <tr>\n",
       "      <th>002ba53</th>\n",
       "      <td>Dear, State Senator\\n\\nThis is a letter to arg...</td>\n",
       "      <td>3</td>\n",
       "      <td>[Dear, ,, State, Senator, This, is, a, letter,...</td>\n",
       "    </tr>\n",
       "    <tr>\n",
       "      <th>...</th>\n",
       "      <td>...</td>\n",
       "      <td>...</td>\n",
       "      <td>...</td>\n",
       "    </tr>\n",
       "    <tr>\n",
       "      <th>ffd378d</th>\n",
       "      <td>the story \" The Challenge of Exploing Venus \" ...</td>\n",
       "      <td>2</td>\n",
       "      <td>[the, story, ``, The, Challenge, of, Exploing,...</td>\n",
       "    </tr>\n",
       "    <tr>\n",
       "      <th>ffddf1f</th>\n",
       "      <td>Technology has changed a lot of ways that we l...</td>\n",
       "      <td>4</td>\n",
       "      <td>[Technology, has, changed, a, lot, of, ways, t...</td>\n",
       "    </tr>\n",
       "    <tr>\n",
       "      <th>fff016d</th>\n",
       "      <td>If you don't like sitting around all day than ...</td>\n",
       "      <td>2</td>\n",
       "      <td>[If, you, do, n't, like, sitting, around, all,...</td>\n",
       "    </tr>\n",
       "    <tr>\n",
       "      <th>fffb49b</th>\n",
       "      <td>In \"The Challenge of Exporing Venus,\" the auth...</td>\n",
       "      <td>1</td>\n",
       "      <td>[In, ``, The, Challenge, of, Exporing, Venus, ...</td>\n",
       "    </tr>\n",
       "    <tr>\n",
       "      <th>fffed3e</th>\n",
       "      <td>Venus is worthy place to study but dangerous. ...</td>\n",
       "      <td>2</td>\n",
       "      <td>[Venus, is, worthy, place, to, study, but, dan...</td>\n",
       "    </tr>\n",
       "  </tbody>\n",
       "</table>\n",
       "<p>17307 rows × 3 columns</p>\n",
       "</div>"
      ],
      "text/plain": [
       "                                                  full_text  score  \\\n",
       "essay_id                                                             \n",
       "000d118   Many people have car where they live. The thin...      3   \n",
       "000fe60   I am a scientist at NASA that is discussing th...      3   \n",
       "001ab80   People always wish they had the same technolog...      4   \n",
       "001bdc0   We all heard about Venus, the planet without a...      4   \n",
       "002ba53   Dear, State Senator\\n\\nThis is a letter to arg...      3   \n",
       "...                                                     ...    ...   \n",
       "ffd378d   the story \" The Challenge of Exploing Venus \" ...      2   \n",
       "ffddf1f   Technology has changed a lot of ways that we l...      4   \n",
       "fff016d   If you don't like sitting around all day than ...      2   \n",
       "fffb49b   In \"The Challenge of Exporing Venus,\" the auth...      1   \n",
       "fffed3e   Venus is worthy place to study but dangerous. ...      2   \n",
       "\n",
       "                                                     tokens  \n",
       "essay_id                                                     \n",
       "000d118   [Many, people, have, car, where, they, live, ....  \n",
       "000fe60   [I, am, a, scientist, at, NASA, that, is, disc...  \n",
       "001ab80   [People, always, wish, they, had, the, same, t...  \n",
       "001bdc0   [We, all, heard, about, Venus, ,, the, planet,...  \n",
       "002ba53   [Dear, ,, State, Senator, This, is, a, letter,...  \n",
       "...                                                     ...  \n",
       "ffd378d   [the, story, ``, The, Challenge, of, Exploing,...  \n",
       "ffddf1f   [Technology, has, changed, a, lot, of, ways, t...  \n",
       "fff016d   [If, you, do, n't, like, sitting, around, all,...  \n",
       "fffb49b   [In, ``, The, Challenge, of, Exporing, Venus, ...  \n",
       "fffed3e   [Venus, is, worthy, place, to, study, but, dan...  \n",
       "\n",
       "[17307 rows x 3 columns]"
      ]
     },
     "execution_count": 7,
     "metadata": {},
     "output_type": "execute_result"
    }
   ],
   "source": [
    "train"
   ]
  },
  {
   "cell_type": "code",
   "execution_count": 8,
   "id": "07b0d37f",
   "metadata": {
    "execution": {
     "iopub.execute_input": "2024-05-19T08:01:16.924211Z",
     "iopub.status.busy": "2024-05-19T08:01:16.923313Z",
     "iopub.status.idle": "2024-05-19T08:01:16.941703Z",
     "shell.execute_reply": "2024-05-19T08:01:16.940317Z"
    },
    "papermill": {
     "duration": 0.039104,
     "end_time": "2024-05-19T08:01:16.944217",
     "exception": false,
     "start_time": "2024-05-19T08:01:16.905113",
     "status": "completed"
    },
    "tags": []
   },
   "outputs": [
    {
     "data": {
      "text/html": [
       "<div>\n",
       "<style scoped>\n",
       "    .dataframe tbody tr th:only-of-type {\n",
       "        vertical-align: middle;\n",
       "    }\n",
       "\n",
       "    .dataframe tbody tr th {\n",
       "        vertical-align: top;\n",
       "    }\n",
       "\n",
       "    .dataframe thead th {\n",
       "        text-align: right;\n",
       "    }\n",
       "</style>\n",
       "<table border=\"1\" class=\"dataframe\">\n",
       "  <thead>\n",
       "    <tr style=\"text-align: right;\">\n",
       "      <th></th>\n",
       "      <th>full_text</th>\n",
       "      <th>tokens</th>\n",
       "    </tr>\n",
       "    <tr>\n",
       "      <th>essay_id</th>\n",
       "      <th></th>\n",
       "      <th></th>\n",
       "    </tr>\n",
       "  </thead>\n",
       "  <tbody>\n",
       "    <tr>\n",
       "      <th>000d118</th>\n",
       "      <td>Many people have car where they live. The thin...</td>\n",
       "      <td>[Many, people, have, car, where, they, live, ....</td>\n",
       "    </tr>\n",
       "    <tr>\n",
       "      <th>000fe60</th>\n",
       "      <td>I am a scientist at NASA that is discussing th...</td>\n",
       "      <td>[I, am, a, scientist, at, NASA, that, is, disc...</td>\n",
       "    </tr>\n",
       "    <tr>\n",
       "      <th>001ab80</th>\n",
       "      <td>People always wish they had the same technolog...</td>\n",
       "      <td>[People, always, wish, they, had, the, same, t...</td>\n",
       "    </tr>\n",
       "  </tbody>\n",
       "</table>\n",
       "</div>"
      ],
      "text/plain": [
       "                                                  full_text  \\\n",
       "essay_id                                                      \n",
       "000d118   Many people have car where they live. The thin...   \n",
       "000fe60   I am a scientist at NASA that is discussing th...   \n",
       "001ab80   People always wish they had the same technolog...   \n",
       "\n",
       "                                                     tokens  \n",
       "essay_id                                                     \n",
       "000d118   [Many, people, have, car, where, they, live, ....  \n",
       "000fe60   [I, am, a, scientist, at, NASA, that, is, disc...  \n",
       "001ab80   [People, always, wish, they, had, the, same, t...  "
      ]
     },
     "execution_count": 8,
     "metadata": {},
     "output_type": "execute_result"
    }
   ],
   "source": [
    "test"
   ]
  },
  {
   "cell_type": "markdown",
   "id": "f215bf4f",
   "metadata": {
    "papermill": {
     "duration": 0.016782,
     "end_time": "2024-05-19T08:01:16.978533",
     "exception": false,
     "start_time": "2024-05-19T08:01:16.961751",
     "status": "completed"
    },
    "tags": []
   },
   "source": [
    "# **Hàm đếm tổng số từ sai chính tả trong đoạn**"
   ]
  },
  {
   "cell_type": "code",
   "execution_count": 9,
   "id": "0bd03c34",
   "metadata": {
    "execution": {
     "iopub.execute_input": "2024-05-19T08:01:17.017399Z",
     "iopub.status.busy": "2024-05-19T08:01:17.016937Z",
     "iopub.status.idle": "2024-05-19T08:01:37.746023Z",
     "shell.execute_reply": "2024-05-19T08:01:37.744830Z"
    },
    "papermill": {
     "duration": 20.75062,
     "end_time": "2024-05-19T08:01:37.748947",
     "exception": false,
     "start_time": "2024-05-19T08:01:16.998327",
     "status": "completed"
    },
    "tags": []
   },
   "outputs": [],
   "source": [
    "spell_checker = SpellChecker()\n",
    "def count_errors(tokens):\n",
    "    misspelled = spell_checker.unknown(token for token in tokens if token.isalpha())\n",
    "    return len(misspelled)\n",
    "train['count_spelling_errors'] = train['tokens'].apply(lambda x: count_errors(x))\n",
    "test['count_spelling_errors'] = test['tokens'].apply(lambda x: count_errors(x))"
   ]
  },
  {
   "cell_type": "code",
   "execution_count": 10,
   "id": "e103c2f1",
   "metadata": {
    "execution": {
     "iopub.execute_input": "2024-05-19T08:01:37.786548Z",
     "iopub.status.busy": "2024-05-19T08:01:37.785824Z",
     "iopub.status.idle": "2024-05-19T08:01:37.813282Z",
     "shell.execute_reply": "2024-05-19T08:01:37.812109Z"
    },
    "papermill": {
     "duration": 0.049162,
     "end_time": "2024-05-19T08:01:37.815875",
     "exception": false,
     "start_time": "2024-05-19T08:01:37.766713",
     "status": "completed"
    },
    "tags": []
   },
   "outputs": [
    {
     "data": {
      "text/html": [
       "<div>\n",
       "<style scoped>\n",
       "    .dataframe tbody tr th:only-of-type {\n",
       "        vertical-align: middle;\n",
       "    }\n",
       "\n",
       "    .dataframe tbody tr th {\n",
       "        vertical-align: top;\n",
       "    }\n",
       "\n",
       "    .dataframe thead th {\n",
       "        text-align: right;\n",
       "    }\n",
       "</style>\n",
       "<table border=\"1\" class=\"dataframe\">\n",
       "  <thead>\n",
       "    <tr style=\"text-align: right;\">\n",
       "      <th></th>\n",
       "      <th>full_text</th>\n",
       "      <th>score</th>\n",
       "      <th>tokens</th>\n",
       "      <th>count_spelling_errors</th>\n",
       "    </tr>\n",
       "    <tr>\n",
       "      <th>essay_id</th>\n",
       "      <th></th>\n",
       "      <th></th>\n",
       "      <th></th>\n",
       "      <th></th>\n",
       "    </tr>\n",
       "  </thead>\n",
       "  <tbody>\n",
       "    <tr>\n",
       "      <th>000d118</th>\n",
       "      <td>Many people have car where they live. The thin...</td>\n",
       "      <td>3</td>\n",
       "      <td>[Many, people, have, car, where, they, live, ....</td>\n",
       "      <td>16</td>\n",
       "    </tr>\n",
       "    <tr>\n",
       "      <th>000fe60</th>\n",
       "      <td>I am a scientist at NASA that is discussing th...</td>\n",
       "      <td>3</td>\n",
       "      <td>[I, am, a, scientist, at, NASA, that, is, disc...</td>\n",
       "      <td>7</td>\n",
       "    </tr>\n",
       "    <tr>\n",
       "      <th>001ab80</th>\n",
       "      <td>People always wish they had the same technolog...</td>\n",
       "      <td>4</td>\n",
       "      <td>[People, always, wish, they, had, the, same, t...</td>\n",
       "      <td>7</td>\n",
       "    </tr>\n",
       "    <tr>\n",
       "      <th>001bdc0</th>\n",
       "      <td>We all heard about Venus, the planet without a...</td>\n",
       "      <td>4</td>\n",
       "      <td>[We, all, heard, about, Venus, ,, the, planet,...</td>\n",
       "      <td>2</td>\n",
       "    </tr>\n",
       "    <tr>\n",
       "      <th>002ba53</th>\n",
       "      <td>Dear, State Senator\\n\\nThis is a letter to arg...</td>\n",
       "      <td>3</td>\n",
       "      <td>[Dear, ,, State, Senator, This, is, a, letter,...</td>\n",
       "      <td>8</td>\n",
       "    </tr>\n",
       "    <tr>\n",
       "      <th>...</th>\n",
       "      <td>...</td>\n",
       "      <td>...</td>\n",
       "      <td>...</td>\n",
       "      <td>...</td>\n",
       "    </tr>\n",
       "    <tr>\n",
       "      <th>ffd378d</th>\n",
       "      <td>the story \" The Challenge of Exploing Venus \" ...</td>\n",
       "      <td>2</td>\n",
       "      <td>[the, story, ``, The, Challenge, of, Exploing,...</td>\n",
       "      <td>10</td>\n",
       "    </tr>\n",
       "    <tr>\n",
       "      <th>ffddf1f</th>\n",
       "      <td>Technology has changed a lot of ways that we l...</td>\n",
       "      <td>4</td>\n",
       "      <td>[Technology, has, changed, a, lot, of, ways, t...</td>\n",
       "      <td>13</td>\n",
       "    </tr>\n",
       "    <tr>\n",
       "      <th>fff016d</th>\n",
       "      <td>If you don't like sitting around all day than ...</td>\n",
       "      <td>2</td>\n",
       "      <td>[If, you, do, n't, like, sitting, around, all,...</td>\n",
       "      <td>1</td>\n",
       "    </tr>\n",
       "    <tr>\n",
       "      <th>fffb49b</th>\n",
       "      <td>In \"The Challenge of Exporing Venus,\" the auth...</td>\n",
       "      <td>1</td>\n",
       "      <td>[In, ``, The, Challenge, of, Exporing, Venus, ...</td>\n",
       "      <td>3</td>\n",
       "    </tr>\n",
       "    <tr>\n",
       "      <th>fffed3e</th>\n",
       "      <td>Venus is worthy place to study but dangerous. ...</td>\n",
       "      <td>2</td>\n",
       "      <td>[Venus, is, worthy, place, to, study, but, dan...</td>\n",
       "      <td>5</td>\n",
       "    </tr>\n",
       "  </tbody>\n",
       "</table>\n",
       "<p>17307 rows × 4 columns</p>\n",
       "</div>"
      ],
      "text/plain": [
       "                                                  full_text  score  \\\n",
       "essay_id                                                             \n",
       "000d118   Many people have car where they live. The thin...      3   \n",
       "000fe60   I am a scientist at NASA that is discussing th...      3   \n",
       "001ab80   People always wish they had the same technolog...      4   \n",
       "001bdc0   We all heard about Venus, the planet without a...      4   \n",
       "002ba53   Dear, State Senator\\n\\nThis is a letter to arg...      3   \n",
       "...                                                     ...    ...   \n",
       "ffd378d   the story \" The Challenge of Exploing Venus \" ...      2   \n",
       "ffddf1f   Technology has changed a lot of ways that we l...      4   \n",
       "fff016d   If you don't like sitting around all day than ...      2   \n",
       "fffb49b   In \"The Challenge of Exporing Venus,\" the auth...      1   \n",
       "fffed3e   Venus is worthy place to study but dangerous. ...      2   \n",
       "\n",
       "                                                     tokens  \\\n",
       "essay_id                                                      \n",
       "000d118   [Many, people, have, car, where, they, live, ....   \n",
       "000fe60   [I, am, a, scientist, at, NASA, that, is, disc...   \n",
       "001ab80   [People, always, wish, they, had, the, same, t...   \n",
       "001bdc0   [We, all, heard, about, Venus, ,, the, planet,...   \n",
       "002ba53   [Dear, ,, State, Senator, This, is, a, letter,...   \n",
       "...                                                     ...   \n",
       "ffd378d   [the, story, ``, The, Challenge, of, Exploing,...   \n",
       "ffddf1f   [Technology, has, changed, a, lot, of, ways, t...   \n",
       "fff016d   [If, you, do, n't, like, sitting, around, all,...   \n",
       "fffb49b   [In, ``, The, Challenge, of, Exporing, Venus, ...   \n",
       "fffed3e   [Venus, is, worthy, place, to, study, but, dan...   \n",
       "\n",
       "          count_spelling_errors  \n",
       "essay_id                         \n",
       "000d118                      16  \n",
       "000fe60                       7  \n",
       "001ab80                       7  \n",
       "001bdc0                       2  \n",
       "002ba53                       8  \n",
       "...                         ...  \n",
       "ffd378d                      10  \n",
       "ffddf1f                      13  \n",
       "fff016d                       1  \n",
       "fffb49b                       3  \n",
       "fffed3e                       5  \n",
       "\n",
       "[17307 rows x 4 columns]"
      ]
     },
     "execution_count": 10,
     "metadata": {},
     "output_type": "execute_result"
    }
   ],
   "source": [
    "train"
   ]
  },
  {
   "cell_type": "code",
   "execution_count": 11,
   "id": "a2cd9abf",
   "metadata": {
    "execution": {
     "iopub.execute_input": "2024-05-19T08:01:37.853730Z",
     "iopub.status.busy": "2024-05-19T08:01:37.852921Z",
     "iopub.status.idle": "2024-05-19T08:01:37.867901Z",
     "shell.execute_reply": "2024-05-19T08:01:37.866574Z"
    },
    "papermill": {
     "duration": 0.03672,
     "end_time": "2024-05-19T08:01:37.870371",
     "exception": false,
     "start_time": "2024-05-19T08:01:37.833651",
     "status": "completed"
    },
    "tags": []
   },
   "outputs": [
    {
     "data": {
      "text/html": [
       "<div>\n",
       "<style scoped>\n",
       "    .dataframe tbody tr th:only-of-type {\n",
       "        vertical-align: middle;\n",
       "    }\n",
       "\n",
       "    .dataframe tbody tr th {\n",
       "        vertical-align: top;\n",
       "    }\n",
       "\n",
       "    .dataframe thead th {\n",
       "        text-align: right;\n",
       "    }\n",
       "</style>\n",
       "<table border=\"1\" class=\"dataframe\">\n",
       "  <thead>\n",
       "    <tr style=\"text-align: right;\">\n",
       "      <th></th>\n",
       "      <th>full_text</th>\n",
       "      <th>tokens</th>\n",
       "      <th>count_spelling_errors</th>\n",
       "    </tr>\n",
       "    <tr>\n",
       "      <th>essay_id</th>\n",
       "      <th></th>\n",
       "      <th></th>\n",
       "      <th></th>\n",
       "    </tr>\n",
       "  </thead>\n",
       "  <tbody>\n",
       "    <tr>\n",
       "      <th>000d118</th>\n",
       "      <td>Many people have car where they live. The thin...</td>\n",
       "      <td>[Many, people, have, car, where, they, live, ....</td>\n",
       "      <td>16</td>\n",
       "    </tr>\n",
       "    <tr>\n",
       "      <th>000fe60</th>\n",
       "      <td>I am a scientist at NASA that is discussing th...</td>\n",
       "      <td>[I, am, a, scientist, at, NASA, that, is, disc...</td>\n",
       "      <td>7</td>\n",
       "    </tr>\n",
       "    <tr>\n",
       "      <th>001ab80</th>\n",
       "      <td>People always wish they had the same technolog...</td>\n",
       "      <td>[People, always, wish, they, had, the, same, t...</td>\n",
       "      <td>7</td>\n",
       "    </tr>\n",
       "  </tbody>\n",
       "</table>\n",
       "</div>"
      ],
      "text/plain": [
       "                                                  full_text  \\\n",
       "essay_id                                                      \n",
       "000d118   Many people have car where they live. The thin...   \n",
       "000fe60   I am a scientist at NASA that is discussing th...   \n",
       "001ab80   People always wish they had the same technolog...   \n",
       "\n",
       "                                                     tokens  \\\n",
       "essay_id                                                      \n",
       "000d118   [Many, people, have, car, where, they, live, ....   \n",
       "000fe60   [I, am, a, scientist, at, NASA, that, is, disc...   \n",
       "001ab80   [People, always, wish, they, had, the, same, t...   \n",
       "\n",
       "          count_spelling_errors  \n",
       "essay_id                         \n",
       "000d118                      16  \n",
       "000fe60                       7  \n",
       "001ab80                       7  "
      ]
     },
     "execution_count": 11,
     "metadata": {},
     "output_type": "execute_result"
    }
   ],
   "source": [
    "test"
   ]
  },
  {
   "cell_type": "markdown",
   "id": "ab2b26b7",
   "metadata": {
    "papermill": {
     "duration": 0.017511,
     "end_time": "2024-05-19T08:01:37.906049",
     "exception": false,
     "start_time": "2024-05-19T08:01:37.888538",
     "status": "completed"
    },
    "tags": []
   },
   "source": [
    "# **Extract features**"
   ]
  },
  {
   "cell_type": "code",
   "execution_count": 12,
   "id": "3022166c",
   "metadata": {
    "execution": {
     "iopub.execute_input": "2024-05-19T08:01:37.944925Z",
     "iopub.status.busy": "2024-05-19T08:01:37.944539Z",
     "iopub.status.idle": "2024-05-19T08:01:37.956660Z",
     "shell.execute_reply": "2024-05-19T08:01:37.955584Z"
    },
    "papermill": {
     "duration": 0.034928,
     "end_time": "2024-05-19T08:01:37.958973",
     "exception": false,
     "start_time": "2024-05-19T08:01:37.924045",
     "status": "completed"
    },
    "tags": []
   },
   "outputs": [],
   "source": [
    "class FeatureExtract:\n",
    "    def __init__(self):\n",
    "        pass\n",
    "    \n",
    "    #tính tổng số từ trong đoạn\n",
    "    def word_count(self, text):\n",
    "        return len(text.split())\n",
    "    \n",
    "    #tính tổng số câu trong đoạn\n",
    "    def sen_count(self, text):\n",
    "        return len(text.split('.'))\n",
    "    \n",
    "    #tính độ dài trung bình của từng từ\n",
    "    def ave_word_length(self, text):\n",
    "        words = text.split()\n",
    "        total_length = 0\n",
    "        for word in words:\n",
    "            total_length += len(word)\n",
    "        if len(words) == 0:\n",
    "            return 0\n",
    "        else:\n",
    "            return total_length / len(words)\n",
    "    \n",
    "#     #tính tổng số stopwords trong đoạn\n",
    "#     def total_stopwords(self, text):\n",
    "#         words = text.split()\n",
    "#         stopwords = [word for word in words if len(word) > 1 and word.isalpha() and word.lower() in stop_words]\n",
    "#         return len(stopwords)\n",
    "    \n",
    "    #độ đa dạng từ vựng trong một đoạn được tính từ tổng số từ là duy nhất trong đoạn văn bản và chia cho tổng số từ của văn bản\n",
    "    def lexical_diversity(self, text):\n",
    "        words = text.split()\n",
    "        if len(words) == 0:\n",
    "            return 0\n",
    "        return len(set(words)) / len(words)\n",
    "    \n",
    "    def extract_features(self, text):\n",
    "        features = {\n",
    "            'word_count': self.word_count(text),\n",
    "            'sen_count': self.sen_count(text),\n",
    "            'ave_word_length': self.ave_word_length(text),\n",
    "            'total_stopwords' : self.total_stopwords(text),\n",
    "            'count_spelling_errors' : self.count_spelling_errors(text),\n",
    "            'lexical_diversity': self.lexical_diversity(text),\n",
    "            'sentiment' : self.sentiment(text),\n",
    "        }\n",
    "        return features"
   ]
  },
  {
   "cell_type": "markdown",
   "id": "77e27749",
   "metadata": {
    "papermill": {
     "duration": 0.017492,
     "end_time": "2024-05-19T08:01:37.994415",
     "exception": false,
     "start_time": "2024-05-19T08:01:37.976923",
     "status": "completed"
    },
    "tags": []
   },
   "source": [
    "# **function to insert features column to dataframe**"
   ]
  },
  {
   "cell_type": "code",
   "execution_count": 13,
   "id": "531abec7",
   "metadata": {
    "execution": {
     "iopub.execute_input": "2024-05-19T08:01:38.032868Z",
     "iopub.status.busy": "2024-05-19T08:01:38.031690Z",
     "iopub.status.idle": "2024-05-19T08:01:40.979085Z",
     "shell.execute_reply": "2024-05-19T08:01:40.977471Z"
    },
    "papermill": {
     "duration": 2.969728,
     "end_time": "2024-05-19T08:01:40.982279",
     "exception": false,
     "start_time": "2024-05-19T08:01:38.012551",
     "status": "completed"
    },
    "tags": []
   },
   "outputs": [],
   "source": [
    "def insert_features(df, text):\n",
    "    extractor = FeatureExtract()\n",
    "    for feature in ['word_count', 'sen_count', 'ave_word_length', 'lexical_diversity']:\n",
    "        df[feature] = df[text].apply(lambda x: getattr(extractor, feature)(x))\n",
    "\n",
    "insert_features(train, 'full_text')\n",
    "insert_features(test, 'full_text')"
   ]
  },
  {
   "cell_type": "code",
   "execution_count": 14,
   "id": "738b8f43",
   "metadata": {
    "execution": {
     "iopub.execute_input": "2024-05-19T08:01:41.086599Z",
     "iopub.status.busy": "2024-05-19T08:01:41.085383Z",
     "iopub.status.idle": "2024-05-19T08:01:41.119064Z",
     "shell.execute_reply": "2024-05-19T08:01:41.117881Z"
    },
    "papermill": {
     "duration": 0.121115,
     "end_time": "2024-05-19T08:01:41.121452",
     "exception": false,
     "start_time": "2024-05-19T08:01:41.000337",
     "status": "completed"
    },
    "tags": []
   },
   "outputs": [
    {
     "data": {
      "text/html": [
       "<div>\n",
       "<style scoped>\n",
       "    .dataframe tbody tr th:only-of-type {\n",
       "        vertical-align: middle;\n",
       "    }\n",
       "\n",
       "    .dataframe tbody tr th {\n",
       "        vertical-align: top;\n",
       "    }\n",
       "\n",
       "    .dataframe thead th {\n",
       "        text-align: right;\n",
       "    }\n",
       "</style>\n",
       "<table border=\"1\" class=\"dataframe\">\n",
       "  <thead>\n",
       "    <tr style=\"text-align: right;\">\n",
       "      <th></th>\n",
       "      <th>full_text</th>\n",
       "      <th>score</th>\n",
       "      <th>tokens</th>\n",
       "      <th>count_spelling_errors</th>\n",
       "      <th>word_count</th>\n",
       "      <th>sen_count</th>\n",
       "      <th>ave_word_length</th>\n",
       "      <th>lexical_diversity</th>\n",
       "    </tr>\n",
       "    <tr>\n",
       "      <th>essay_id</th>\n",
       "      <th></th>\n",
       "      <th></th>\n",
       "      <th></th>\n",
       "      <th></th>\n",
       "      <th></th>\n",
       "      <th></th>\n",
       "      <th></th>\n",
       "      <th></th>\n",
       "    </tr>\n",
       "  </thead>\n",
       "  <tbody>\n",
       "    <tr>\n",
       "      <th>000d118</th>\n",
       "      <td>Many people have car where they live. The thin...</td>\n",
       "      <td>3</td>\n",
       "      <td>[Many, people, have, car, where, they, live, ....</td>\n",
       "      <td>16</td>\n",
       "      <td>498</td>\n",
       "      <td>14</td>\n",
       "      <td>4.369478</td>\n",
       "      <td>0.508032</td>\n",
       "    </tr>\n",
       "    <tr>\n",
       "      <th>000fe60</th>\n",
       "      <td>I am a scientist at NASA that is discussing th...</td>\n",
       "      <td>3</td>\n",
       "      <td>[I, am, a, scientist, at, NASA, that, is, disc...</td>\n",
       "      <td>7</td>\n",
       "      <td>332</td>\n",
       "      <td>20</td>\n",
       "      <td>4.018072</td>\n",
       "      <td>0.533133</td>\n",
       "    </tr>\n",
       "    <tr>\n",
       "      <th>001ab80</th>\n",
       "      <td>People always wish they had the same technolog...</td>\n",
       "      <td>4</td>\n",
       "      <td>[People, always, wish, they, had, the, same, t...</td>\n",
       "      <td>7</td>\n",
       "      <td>550</td>\n",
       "      <td>25</td>\n",
       "      <td>4.574545</td>\n",
       "      <td>0.460000</td>\n",
       "    </tr>\n",
       "    <tr>\n",
       "      <th>001bdc0</th>\n",
       "      <td>We all heard about Venus, the planet without a...</td>\n",
       "      <td>4</td>\n",
       "      <td>[We, all, heard, about, Venus, ,, the, planet,...</td>\n",
       "      <td>2</td>\n",
       "      <td>451</td>\n",
       "      <td>24</td>\n",
       "      <td>4.982262</td>\n",
       "      <td>0.556541</td>\n",
       "    </tr>\n",
       "    <tr>\n",
       "      <th>002ba53</th>\n",
       "      <td>Dear, State Senator\\n\\nThis is a letter to arg...</td>\n",
       "      <td>3</td>\n",
       "      <td>[Dear, ,, State, Senator, This, is, a, letter,...</td>\n",
       "      <td>8</td>\n",
       "      <td>373</td>\n",
       "      <td>16</td>\n",
       "      <td>4.873995</td>\n",
       "      <td>0.434316</td>\n",
       "    </tr>\n",
       "    <tr>\n",
       "      <th>...</th>\n",
       "      <td>...</td>\n",
       "      <td>...</td>\n",
       "      <td>...</td>\n",
       "      <td>...</td>\n",
       "      <td>...</td>\n",
       "      <td>...</td>\n",
       "      <td>...</td>\n",
       "      <td>...</td>\n",
       "    </tr>\n",
       "    <tr>\n",
       "      <th>ffd378d</th>\n",
       "      <td>the story \" The Challenge of Exploing Venus \" ...</td>\n",
       "      <td>2</td>\n",
       "      <td>[the, story, ``, The, Challenge, of, Exploing,...</td>\n",
       "      <td>10</td>\n",
       "      <td>157</td>\n",
       "      <td>10</td>\n",
       "      <td>4.445860</td>\n",
       "      <td>0.617834</td>\n",
       "    </tr>\n",
       "    <tr>\n",
       "      <th>ffddf1f</th>\n",
       "      <td>Technology has changed a lot of ways that we l...</td>\n",
       "      <td>4</td>\n",
       "      <td>[Technology, has, changed, a, lot, of, ways, t...</td>\n",
       "      <td>13</td>\n",
       "      <td>579</td>\n",
       "      <td>29</td>\n",
       "      <td>4.770294</td>\n",
       "      <td>0.480138</td>\n",
       "    </tr>\n",
       "    <tr>\n",
       "      <th>fff016d</th>\n",
       "      <td>If you don't like sitting around all day than ...</td>\n",
       "      <td>2</td>\n",
       "      <td>[If, you, do, n't, like, sitting, around, all,...</td>\n",
       "      <td>1</td>\n",
       "      <td>215</td>\n",
       "      <td>16</td>\n",
       "      <td>4.213953</td>\n",
       "      <td>0.553488</td>\n",
       "    </tr>\n",
       "    <tr>\n",
       "      <th>fffb49b</th>\n",
       "      <td>In \"The Challenge of Exporing Venus,\" the auth...</td>\n",
       "      <td>1</td>\n",
       "      <td>[In, ``, The, Challenge, of, Exporing, Venus, ...</td>\n",
       "      <td>3</td>\n",
       "      <td>231</td>\n",
       "      <td>12</td>\n",
       "      <td>5.181818</td>\n",
       "      <td>0.649351</td>\n",
       "    </tr>\n",
       "    <tr>\n",
       "      <th>fffed3e</th>\n",
       "      <td>Venus is worthy place to study but dangerous. ...</td>\n",
       "      <td>2</td>\n",
       "      <td>[Venus, is, worthy, place, to, study, but, dan...</td>\n",
       "      <td>5</td>\n",
       "      <td>155</td>\n",
       "      <td>13</td>\n",
       "      <td>4.051613</td>\n",
       "      <td>0.632258</td>\n",
       "    </tr>\n",
       "  </tbody>\n",
       "</table>\n",
       "<p>17307 rows × 8 columns</p>\n",
       "</div>"
      ],
      "text/plain": [
       "                                                  full_text  score  \\\n",
       "essay_id                                                             \n",
       "000d118   Many people have car where they live. The thin...      3   \n",
       "000fe60   I am a scientist at NASA that is discussing th...      3   \n",
       "001ab80   People always wish they had the same technolog...      4   \n",
       "001bdc0   We all heard about Venus, the planet without a...      4   \n",
       "002ba53   Dear, State Senator\\n\\nThis is a letter to arg...      3   \n",
       "...                                                     ...    ...   \n",
       "ffd378d   the story \" The Challenge of Exploing Venus \" ...      2   \n",
       "ffddf1f   Technology has changed a lot of ways that we l...      4   \n",
       "fff016d   If you don't like sitting around all day than ...      2   \n",
       "fffb49b   In \"The Challenge of Exporing Venus,\" the auth...      1   \n",
       "fffed3e   Venus is worthy place to study but dangerous. ...      2   \n",
       "\n",
       "                                                     tokens  \\\n",
       "essay_id                                                      \n",
       "000d118   [Many, people, have, car, where, they, live, ....   \n",
       "000fe60   [I, am, a, scientist, at, NASA, that, is, disc...   \n",
       "001ab80   [People, always, wish, they, had, the, same, t...   \n",
       "001bdc0   [We, all, heard, about, Venus, ,, the, planet,...   \n",
       "002ba53   [Dear, ,, State, Senator, This, is, a, letter,...   \n",
       "...                                                     ...   \n",
       "ffd378d   [the, story, ``, The, Challenge, of, Exploing,...   \n",
       "ffddf1f   [Technology, has, changed, a, lot, of, ways, t...   \n",
       "fff016d   [If, you, do, n't, like, sitting, around, all,...   \n",
       "fffb49b   [In, ``, The, Challenge, of, Exporing, Venus, ...   \n",
       "fffed3e   [Venus, is, worthy, place, to, study, but, dan...   \n",
       "\n",
       "          count_spelling_errors  word_count  sen_count  ave_word_length  \\\n",
       "essay_id                                                                  \n",
       "000d118                      16         498         14         4.369478   \n",
       "000fe60                       7         332         20         4.018072   \n",
       "001ab80                       7         550         25         4.574545   \n",
       "001bdc0                       2         451         24         4.982262   \n",
       "002ba53                       8         373         16         4.873995   \n",
       "...                         ...         ...        ...              ...   \n",
       "ffd378d                      10         157         10         4.445860   \n",
       "ffddf1f                      13         579         29         4.770294   \n",
       "fff016d                       1         215         16         4.213953   \n",
       "fffb49b                       3         231         12         5.181818   \n",
       "fffed3e                       5         155         13         4.051613   \n",
       "\n",
       "          lexical_diversity  \n",
       "essay_id                     \n",
       "000d118            0.508032  \n",
       "000fe60            0.533133  \n",
       "001ab80            0.460000  \n",
       "001bdc0            0.556541  \n",
       "002ba53            0.434316  \n",
       "...                     ...  \n",
       "ffd378d            0.617834  \n",
       "ffddf1f            0.480138  \n",
       "fff016d            0.553488  \n",
       "fffb49b            0.649351  \n",
       "fffed3e            0.632258  \n",
       "\n",
       "[17307 rows x 8 columns]"
      ]
     },
     "execution_count": 14,
     "metadata": {},
     "output_type": "execute_result"
    }
   ],
   "source": [
    "train"
   ]
  },
  {
   "cell_type": "code",
   "execution_count": 15,
   "id": "f2c10a54",
   "metadata": {
    "execution": {
     "iopub.execute_input": "2024-05-19T08:01:41.160836Z",
     "iopub.status.busy": "2024-05-19T08:01:41.160412Z",
     "iopub.status.idle": "2024-05-19T08:01:41.178773Z",
     "shell.execute_reply": "2024-05-19T08:01:41.177683Z"
    },
    "papermill": {
     "duration": 0.041144,
     "end_time": "2024-05-19T08:01:41.181614",
     "exception": false,
     "start_time": "2024-05-19T08:01:41.140470",
     "status": "completed"
    },
    "tags": []
   },
   "outputs": [
    {
     "data": {
      "text/html": [
       "<div>\n",
       "<style scoped>\n",
       "    .dataframe tbody tr th:only-of-type {\n",
       "        vertical-align: middle;\n",
       "    }\n",
       "\n",
       "    .dataframe tbody tr th {\n",
       "        vertical-align: top;\n",
       "    }\n",
       "\n",
       "    .dataframe thead th {\n",
       "        text-align: right;\n",
       "    }\n",
       "</style>\n",
       "<table border=\"1\" class=\"dataframe\">\n",
       "  <thead>\n",
       "    <tr style=\"text-align: right;\">\n",
       "      <th></th>\n",
       "      <th>full_text</th>\n",
       "      <th>tokens</th>\n",
       "      <th>count_spelling_errors</th>\n",
       "      <th>word_count</th>\n",
       "      <th>sen_count</th>\n",
       "      <th>ave_word_length</th>\n",
       "      <th>lexical_diversity</th>\n",
       "    </tr>\n",
       "    <tr>\n",
       "      <th>essay_id</th>\n",
       "      <th></th>\n",
       "      <th></th>\n",
       "      <th></th>\n",
       "      <th></th>\n",
       "      <th></th>\n",
       "      <th></th>\n",
       "      <th></th>\n",
       "    </tr>\n",
       "  </thead>\n",
       "  <tbody>\n",
       "    <tr>\n",
       "      <th>000d118</th>\n",
       "      <td>Many people have car where they live. The thin...</td>\n",
       "      <td>[Many, people, have, car, where, they, live, ....</td>\n",
       "      <td>16</td>\n",
       "      <td>498</td>\n",
       "      <td>14</td>\n",
       "      <td>4.369478</td>\n",
       "      <td>0.508032</td>\n",
       "    </tr>\n",
       "    <tr>\n",
       "      <th>000fe60</th>\n",
       "      <td>I am a scientist at NASA that is discussing th...</td>\n",
       "      <td>[I, am, a, scientist, at, NASA, that, is, disc...</td>\n",
       "      <td>7</td>\n",
       "      <td>332</td>\n",
       "      <td>20</td>\n",
       "      <td>4.018072</td>\n",
       "      <td>0.533133</td>\n",
       "    </tr>\n",
       "    <tr>\n",
       "      <th>001ab80</th>\n",
       "      <td>People always wish they had the same technolog...</td>\n",
       "      <td>[People, always, wish, they, had, the, same, t...</td>\n",
       "      <td>7</td>\n",
       "      <td>550</td>\n",
       "      <td>25</td>\n",
       "      <td>4.574545</td>\n",
       "      <td>0.460000</td>\n",
       "    </tr>\n",
       "  </tbody>\n",
       "</table>\n",
       "</div>"
      ],
      "text/plain": [
       "                                                  full_text  \\\n",
       "essay_id                                                      \n",
       "000d118   Many people have car where they live. The thin...   \n",
       "000fe60   I am a scientist at NASA that is discussing th...   \n",
       "001ab80   People always wish they had the same technolog...   \n",
       "\n",
       "                                                     tokens  \\\n",
       "essay_id                                                      \n",
       "000d118   [Many, people, have, car, where, they, live, ....   \n",
       "000fe60   [I, am, a, scientist, at, NASA, that, is, disc...   \n",
       "001ab80   [People, always, wish, they, had, the, same, t...   \n",
       "\n",
       "          count_spelling_errors  word_count  sen_count  ave_word_length  \\\n",
       "essay_id                                                                  \n",
       "000d118                      16         498         14         4.369478   \n",
       "000fe60                       7         332         20         4.018072   \n",
       "001ab80                       7         550         25         4.574545   \n",
       "\n",
       "          lexical_diversity  \n",
       "essay_id                     \n",
       "000d118            0.508032  \n",
       "000fe60            0.533133  \n",
       "001ab80            0.460000  "
      ]
     },
     "execution_count": 15,
     "metadata": {},
     "output_type": "execute_result"
    }
   ],
   "source": [
    "test"
   ]
  },
  {
   "cell_type": "code",
   "execution_count": 16,
   "id": "a3055d43",
   "metadata": {
    "execution": {
     "iopub.execute_input": "2024-05-19T08:01:41.223269Z",
     "iopub.status.busy": "2024-05-19T08:01:41.222838Z",
     "iopub.status.idle": "2024-05-19T08:01:41.232785Z",
     "shell.execute_reply": "2024-05-19T08:01:41.231697Z"
    },
    "papermill": {
     "duration": 0.033652,
     "end_time": "2024-05-19T08:01:41.235370",
     "exception": false,
     "start_time": "2024-05-19T08:01:41.201718",
     "status": "completed"
    },
    "tags": []
   },
   "outputs": [],
   "source": [
    "features = ['count_spelling_errors', 'word_count', 'sen_count', 'ave_word_length', 'lexical_diversity']\n",
    "X = train[features]\n",
    "X_test = test[features]"
   ]
  },
  {
   "cell_type": "code",
   "execution_count": 17,
   "id": "710b791d",
   "metadata": {
    "execution": {
     "iopub.execute_input": "2024-05-19T08:01:41.275576Z",
     "iopub.status.busy": "2024-05-19T08:01:41.275153Z",
     "iopub.status.idle": "2024-05-19T08:01:41.283567Z",
     "shell.execute_reply": "2024-05-19T08:01:41.282715Z"
    },
    "papermill": {
     "duration": 0.031511,
     "end_time": "2024-05-19T08:01:41.286157",
     "exception": false,
     "start_time": "2024-05-19T08:01:41.254646",
     "status": "completed"
    },
    "tags": []
   },
   "outputs": [
    {
     "name": "stdout",
     "output_type": "stream",
     "text": [
      "Value of X:\n",
      "          count_spelling_errors  word_count  sen_count  ave_word_length  \\\n",
      "essay_id                                                                  \n",
      "000d118                      16         498         14         4.369478   \n",
      "000fe60                       7         332         20         4.018072   \n",
      "001ab80                       7         550         25         4.574545   \n",
      "001bdc0                       2         451         24         4.982262   \n",
      "002ba53                       8         373         16         4.873995   \n",
      "\n",
      "          lexical_diversity  \n",
      "essay_id                     \n",
      "000d118            0.508032  \n",
      "000fe60            0.533133  \n",
      "001ab80            0.460000  \n",
      "001bdc0            0.556541  \n",
      "002ba53            0.434316  \n"
     ]
    }
   ],
   "source": [
    "print(\"Value of X:\")\n",
    "print(X.head())"
   ]
  },
  {
   "cell_type": "code",
   "execution_count": 18,
   "id": "63fa34fd",
   "metadata": {
    "execution": {
     "iopub.execute_input": "2024-05-19T08:01:41.326506Z",
     "iopub.status.busy": "2024-05-19T08:01:41.325559Z",
     "iopub.status.idle": "2024-05-19T08:01:41.335641Z",
     "shell.execute_reply": "2024-05-19T08:01:41.333789Z"
    },
    "papermill": {
     "duration": 0.032784,
     "end_time": "2024-05-19T08:01:41.338020",
     "exception": false,
     "start_time": "2024-05-19T08:01:41.305236",
     "status": "completed"
    },
    "tags": []
   },
   "outputs": [
    {
     "name": "stdout",
     "output_type": "stream",
     "text": [
      "\n",
      "Value of X_test:\n",
      "          count_spelling_errors  word_count  sen_count  ave_word_length  \\\n",
      "essay_id                                                                  \n",
      "000d118                      16         498         14         4.369478   \n",
      "000fe60                       7         332         20         4.018072   \n",
      "001ab80                       7         550         25         4.574545   \n",
      "\n",
      "          lexical_diversity  \n",
      "essay_id                     \n",
      "000d118            0.508032  \n",
      "000fe60            0.533133  \n",
      "001ab80            0.460000  \n"
     ]
    }
   ],
   "source": [
    "print(\"\\nValue of X_test:\")\n",
    "print(X_test.head())"
   ]
  },
  {
   "cell_type": "markdown",
   "id": "37d66a32",
   "metadata": {
    "papermill": {
     "duration": 0.018765,
     "end_time": "2024-05-19T08:01:41.375696",
     "exception": false,
     "start_time": "2024-05-19T08:01:41.356931",
     "status": "completed"
    },
    "tags": []
   },
   "source": [
    "# **Split data into train and validation sets**"
   ]
  },
  {
   "cell_type": "code",
   "execution_count": 19,
   "id": "d878595f",
   "metadata": {
    "execution": {
     "iopub.execute_input": "2024-05-19T08:01:41.415851Z",
     "iopub.status.busy": "2024-05-19T08:01:41.415396Z",
     "iopub.status.idle": "2024-05-19T08:01:41.427425Z",
     "shell.execute_reply": "2024-05-19T08:01:41.426037Z"
    },
    "papermill": {
     "duration": 0.035492,
     "end_time": "2024-05-19T08:01:41.430204",
     "exception": false,
     "start_time": "2024-05-19T08:01:41.394712",
     "status": "completed"
    },
    "tags": []
   },
   "outputs": [],
   "source": [
    "from sklearn.model_selection import train_test_split\n",
    "X_train, X_valid, y_train, y_valid = train_test_split(X, y, test_size=0.2, random_state=42)"
   ]
  },
  {
   "cell_type": "code",
   "execution_count": 20,
   "id": "2c411e3a",
   "metadata": {
    "execution": {
     "iopub.execute_input": "2024-05-19T08:01:41.471690Z",
     "iopub.status.busy": "2024-05-19T08:01:41.470995Z",
     "iopub.status.idle": "2024-05-19T08:01:41.479836Z",
     "shell.execute_reply": "2024-05-19T08:01:41.478721Z"
    },
    "papermill": {
     "duration": 0.032222,
     "end_time": "2024-05-19T08:01:41.482429",
     "exception": false,
     "start_time": "2024-05-19T08:01:41.450207",
     "status": "completed"
    },
    "tags": []
   },
   "outputs": [
    {
     "name": "stdout",
     "output_type": "stream",
     "text": [
      "Value of X_train:\n",
      "          count_spelling_errors  word_count  sen_count  ave_word_length  \\\n",
      "essay_id                                                                  \n",
      "be29f81                      11         488         30         5.059426   \n",
      "be96267                       6         219         17         4.068493   \n",
      "417a337                       3         182         11         4.439560   \n",
      "dcf3a1e                       5         459         25         4.727669   \n",
      "9d04b4e                       8         386         35         4.336788   \n",
      "\n",
      "          lexical_diversity  \n",
      "essay_id                     \n",
      "be29f81            0.413934  \n",
      "be96267            0.547945  \n",
      "417a337            0.664835  \n",
      "dcf3a1e            0.485839  \n",
      "9d04b4e            0.445596  \n"
     ]
    }
   ],
   "source": [
    "print(\"Value of X_train:\")\n",
    "print(X_train.head())"
   ]
  },
  {
   "cell_type": "code",
   "execution_count": 21,
   "id": "47926c11",
   "metadata": {
    "execution": {
     "iopub.execute_input": "2024-05-19T08:01:41.523143Z",
     "iopub.status.busy": "2024-05-19T08:01:41.522675Z",
     "iopub.status.idle": "2024-05-19T08:01:41.531140Z",
     "shell.execute_reply": "2024-05-19T08:01:41.529960Z"
    },
    "papermill": {
     "duration": 0.031874,
     "end_time": "2024-05-19T08:01:41.533830",
     "exception": false,
     "start_time": "2024-05-19T08:01:41.501956",
     "status": "completed"
    },
    "tags": []
   },
   "outputs": [
    {
     "name": "stdout",
     "output_type": "stream",
     "text": [
      "\n",
      "Value of X_valid:\n",
      "          count_spelling_errors  word_count  sen_count  ave_word_length  \\\n",
      "essay_id                                                                  \n",
      "bb4c434                      17         569         22         4.147627   \n",
      "44e88b0                       3         365         21         4.742466   \n",
      "0ba78ec                       6         222         13         4.490991   \n",
      "f96c287                      10         243         15         4.613169   \n",
      "317173f                      11         593         27         4.261383   \n",
      "\n",
      "          lexical_diversity  \n",
      "essay_id                     \n",
      "bb4c434            0.442882  \n",
      "44e88b0            0.575342  \n",
      "0ba78ec            0.576577  \n",
      "f96c287            0.703704  \n",
      "317173f            0.372681  \n"
     ]
    }
   ],
   "source": [
    "print(\"\\nValue of X_valid:\")\n",
    "print(X_valid.head())"
   ]
  },
  {
   "cell_type": "code",
   "execution_count": 22,
   "id": "99cc3214",
   "metadata": {
    "execution": {
     "iopub.execute_input": "2024-05-19T08:01:41.574971Z",
     "iopub.status.busy": "2024-05-19T08:01:41.574564Z",
     "iopub.status.idle": "2024-05-19T08:01:41.580987Z",
     "shell.execute_reply": "2024-05-19T08:01:41.580093Z"
    },
    "papermill": {
     "duration": 0.030356,
     "end_time": "2024-05-19T08:01:41.583196",
     "exception": false,
     "start_time": "2024-05-19T08:01:41.552840",
     "status": "completed"
    },
    "tags": []
   },
   "outputs": [
    {
     "name": "stdout",
     "output_type": "stream",
     "text": [
      "\n",
      "Value of y_train:\n",
      "[3 1 1 ... 2 1 3]\n"
     ]
    }
   ],
   "source": [
    "print(\"\\nValue of y_train:\")\n",
    "print(y_train)"
   ]
  },
  {
   "cell_type": "code",
   "execution_count": 23,
   "id": "7a3cacb1",
   "metadata": {
    "execution": {
     "iopub.execute_input": "2024-05-19T08:01:41.623686Z",
     "iopub.status.busy": "2024-05-19T08:01:41.623259Z",
     "iopub.status.idle": "2024-05-19T08:01:41.629519Z",
     "shell.execute_reply": "2024-05-19T08:01:41.628399Z"
    },
    "papermill": {
     "duration": 0.02927,
     "end_time": "2024-05-19T08:01:41.631731",
     "exception": false,
     "start_time": "2024-05-19T08:01:41.602461",
     "status": "completed"
    },
    "tags": []
   },
   "outputs": [
    {
     "name": "stdout",
     "output_type": "stream",
     "text": [
      "\n",
      "Value of y_valid:\n",
      "[2 2 2 ... 1 1 1]\n"
     ]
    }
   ],
   "source": [
    "print(\"\\nValue of y_valid:\")\n",
    "print(y_valid)"
   ]
  },
  {
   "cell_type": "markdown",
   "id": "1f8ccc7f",
   "metadata": {
    "papermill": {
     "duration": 0.019695,
     "end_time": "2024-05-19T08:01:41.671227",
     "exception": false,
     "start_time": "2024-05-19T08:01:41.651532",
     "status": "completed"
    },
    "tags": []
   },
   "source": [
    "# **Initialize Gradient Boosting Classifier**"
   ]
  },
  {
   "cell_type": "code",
   "execution_count": 24,
   "id": "5d7e2710",
   "metadata": {
    "execution": {
     "iopub.execute_input": "2024-05-19T08:01:41.712834Z",
     "iopub.status.busy": "2024-05-19T08:01:41.711859Z",
     "iopub.status.idle": "2024-05-19T08:01:41.905326Z",
     "shell.execute_reply": "2024-05-19T08:01:41.904203Z"
    },
    "papermill": {
     "duration": 0.216766,
     "end_time": "2024-05-19T08:01:41.908173",
     "exception": false,
     "start_time": "2024-05-19T08:01:41.691407",
     "status": "completed"
    },
    "tags": []
   },
   "outputs": [],
   "source": [
    "from sklearn.ensemble import GradientBoostingClassifier\n",
    "model = GradientBoostingClassifier()"
   ]
  },
  {
   "cell_type": "markdown",
   "id": "7ca297e9",
   "metadata": {
    "papermill": {
     "duration": 0.019209,
     "end_time": "2024-05-19T08:01:41.946978",
     "exception": false,
     "start_time": "2024-05-19T08:01:41.927769",
     "status": "completed"
    },
    "tags": []
   },
   "source": [
    "# **Fit the model**"
   ]
  },
  {
   "cell_type": "code",
   "execution_count": 25,
   "id": "38192424",
   "metadata": {
    "execution": {
     "iopub.execute_input": "2024-05-19T08:01:41.988548Z",
     "iopub.status.busy": "2024-05-19T08:01:41.988124Z",
     "iopub.status.idle": "2024-05-19T08:01:55.374086Z",
     "shell.execute_reply": "2024-05-19T08:01:55.372811Z"
    },
    "papermill": {
     "duration": 13.410202,
     "end_time": "2024-05-19T08:01:55.376941",
     "exception": false,
     "start_time": "2024-05-19T08:01:41.966739",
     "status": "completed"
    },
    "tags": []
   },
   "outputs": [
    {
     "data": {
      "text/html": [
       "<style>#sk-container-id-1 {color: black;background-color: white;}#sk-container-id-1 pre{padding: 0;}#sk-container-id-1 div.sk-toggleable {background-color: white;}#sk-container-id-1 label.sk-toggleable__label {cursor: pointer;display: block;width: 100%;margin-bottom: 0;padding: 0.3em;box-sizing: border-box;text-align: center;}#sk-container-id-1 label.sk-toggleable__label-arrow:before {content: \"▸\";float: left;margin-right: 0.25em;color: #696969;}#sk-container-id-1 label.sk-toggleable__label-arrow:hover:before {color: black;}#sk-container-id-1 div.sk-estimator:hover label.sk-toggleable__label-arrow:before {color: black;}#sk-container-id-1 div.sk-toggleable__content {max-height: 0;max-width: 0;overflow: hidden;text-align: left;background-color: #f0f8ff;}#sk-container-id-1 div.sk-toggleable__content pre {margin: 0.2em;color: black;border-radius: 0.25em;background-color: #f0f8ff;}#sk-container-id-1 input.sk-toggleable__control:checked~div.sk-toggleable__content {max-height: 200px;max-width: 100%;overflow: auto;}#sk-container-id-1 input.sk-toggleable__control:checked~label.sk-toggleable__label-arrow:before {content: \"▾\";}#sk-container-id-1 div.sk-estimator input.sk-toggleable__control:checked~label.sk-toggleable__label {background-color: #d4ebff;}#sk-container-id-1 div.sk-label input.sk-toggleable__control:checked~label.sk-toggleable__label {background-color: #d4ebff;}#sk-container-id-1 input.sk-hidden--visually {border: 0;clip: rect(1px 1px 1px 1px);clip: rect(1px, 1px, 1px, 1px);height: 1px;margin: -1px;overflow: hidden;padding: 0;position: absolute;width: 1px;}#sk-container-id-1 div.sk-estimator {font-family: monospace;background-color: #f0f8ff;border: 1px dotted black;border-radius: 0.25em;box-sizing: border-box;margin-bottom: 0.5em;}#sk-container-id-1 div.sk-estimator:hover {background-color: #d4ebff;}#sk-container-id-1 div.sk-parallel-item::after {content: \"\";width: 100%;border-bottom: 1px solid gray;flex-grow: 1;}#sk-container-id-1 div.sk-label:hover label.sk-toggleable__label {background-color: #d4ebff;}#sk-container-id-1 div.sk-serial::before {content: \"\";position: absolute;border-left: 1px solid gray;box-sizing: border-box;top: 0;bottom: 0;left: 50%;z-index: 0;}#sk-container-id-1 div.sk-serial {display: flex;flex-direction: column;align-items: center;background-color: white;padding-right: 0.2em;padding-left: 0.2em;position: relative;}#sk-container-id-1 div.sk-item {position: relative;z-index: 1;}#sk-container-id-1 div.sk-parallel {display: flex;align-items: stretch;justify-content: center;background-color: white;position: relative;}#sk-container-id-1 div.sk-item::before, #sk-container-id-1 div.sk-parallel-item::before {content: \"\";position: absolute;border-left: 1px solid gray;box-sizing: border-box;top: 0;bottom: 0;left: 50%;z-index: -1;}#sk-container-id-1 div.sk-parallel-item {display: flex;flex-direction: column;z-index: 1;position: relative;background-color: white;}#sk-container-id-1 div.sk-parallel-item:first-child::after {align-self: flex-end;width: 50%;}#sk-container-id-1 div.sk-parallel-item:last-child::after {align-self: flex-start;width: 50%;}#sk-container-id-1 div.sk-parallel-item:only-child::after {width: 0;}#sk-container-id-1 div.sk-dashed-wrapped {border: 1px dashed gray;margin: 0 0.4em 0.5em 0.4em;box-sizing: border-box;padding-bottom: 0.4em;background-color: white;}#sk-container-id-1 div.sk-label label {font-family: monospace;font-weight: bold;display: inline-block;line-height: 1.2em;}#sk-container-id-1 div.sk-label-container {text-align: center;}#sk-container-id-1 div.sk-container {/* jupyter's `normalize.less` sets `[hidden] { display: none; }` but bootstrap.min.css set `[hidden] { display: none !important; }` so we also need the `!important` here to be able to override the default hidden behavior on the sphinx rendered scikit-learn.org. See: https://github.com/scikit-learn/scikit-learn/issues/21755 */display: inline-block !important;position: relative;}#sk-container-id-1 div.sk-text-repr-fallback {display: none;}</style><div id=\"sk-container-id-1\" class=\"sk-top-container\"><div class=\"sk-text-repr-fallback\"><pre>GradientBoostingClassifier()</pre><b>In a Jupyter environment, please rerun this cell to show the HTML representation or trust the notebook. <br />On GitHub, the HTML representation is unable to render, please try loading this page with nbviewer.org.</b></div><div class=\"sk-container\" hidden><div class=\"sk-item\"><div class=\"sk-estimator sk-toggleable\"><input class=\"sk-toggleable__control sk-hidden--visually\" id=\"sk-estimator-id-1\" type=\"checkbox\" checked><label for=\"sk-estimator-id-1\" class=\"sk-toggleable__label sk-toggleable__label-arrow\">GradientBoostingClassifier</label><div class=\"sk-toggleable__content\"><pre>GradientBoostingClassifier()</pre></div></div></div></div></div>"
      ],
      "text/plain": [
       "GradientBoostingClassifier()"
      ]
     },
     "execution_count": 25,
     "metadata": {},
     "output_type": "execute_result"
    }
   ],
   "source": [
    "model.fit(X_train, y_train)"
   ]
  },
  {
   "cell_type": "markdown",
   "id": "546f4bc9",
   "metadata": {
    "papermill": {
     "duration": 0.019248,
     "end_time": "2024-05-19T08:01:55.416437",
     "exception": false,
     "start_time": "2024-05-19T08:01:55.397189",
     "status": "completed"
    },
    "tags": []
   },
   "source": [
    "# **Predict on the validation set**"
   ]
  },
  {
   "cell_type": "code",
   "execution_count": 26,
   "id": "406ee740",
   "metadata": {
    "execution": {
     "iopub.execute_input": "2024-05-19T08:01:55.458624Z",
     "iopub.status.busy": "2024-05-19T08:01:55.458220Z",
     "iopub.status.idle": "2024-05-19T08:01:55.495341Z",
     "shell.execute_reply": "2024-05-19T08:01:55.494145Z"
    },
    "papermill": {
     "duration": 0.060925,
     "end_time": "2024-05-19T08:01:55.498132",
     "exception": false,
     "start_time": "2024-05-19T08:01:55.437207",
     "status": "completed"
    },
    "tags": []
   },
   "outputs": [],
   "source": [
    "y_pred = model.predict(X_valid)"
   ]
  },
  {
   "cell_type": "code",
   "execution_count": 27,
   "id": "944c0bbf",
   "metadata": {
    "execution": {
     "iopub.execute_input": "2024-05-19T08:01:55.539364Z",
     "iopub.status.busy": "2024-05-19T08:01:55.538930Z",
     "iopub.status.idle": "2024-05-19T08:01:55.544827Z",
     "shell.execute_reply": "2024-05-19T08:01:55.543715Z"
    },
    "papermill": {
     "duration": 0.029779,
     "end_time": "2024-05-19T08:01:55.547419",
     "exception": false,
     "start_time": "2024-05-19T08:01:55.517640",
     "status": "completed"
    },
    "tags": []
   },
   "outputs": [
    {
     "name": "stdout",
     "output_type": "stream",
     "text": [
      "Predicted values on the validation set:\n",
      "[3 2 1 ... 2 1 1]\n"
     ]
    }
   ],
   "source": [
    "print(\"Predicted values on the validation set:\")\n",
    "print(y_pred)"
   ]
  },
  {
   "cell_type": "markdown",
   "id": "a61751f9",
   "metadata": {
    "papermill": {
     "duration": 0.019623,
     "end_time": "2024-05-19T08:01:55.586618",
     "exception": false,
     "start_time": "2024-05-19T08:01:55.566995",
     "status": "completed"
    },
    "tags": []
   },
   "source": [
    "# **Inverse transform the predictions because we encode the target variable**"
   ]
  },
  {
   "cell_type": "code",
   "execution_count": 28,
   "id": "d2d6cfe6",
   "metadata": {
    "execution": {
     "iopub.execute_input": "2024-05-19T08:01:55.627796Z",
     "iopub.status.busy": "2024-05-19T08:01:55.627353Z",
     "iopub.status.idle": "2024-05-19T08:01:55.632711Z",
     "shell.execute_reply": "2024-05-19T08:01:55.631753Z"
    },
    "papermill": {
     "duration": 0.028944,
     "end_time": "2024-05-19T08:01:55.635136",
     "exception": false,
     "start_time": "2024-05-19T08:01:55.606192",
     "status": "completed"
    },
    "tags": []
   },
   "outputs": [],
   "source": [
    "y_pred = le.inverse_transform(y_pred)"
   ]
  },
  {
   "cell_type": "markdown",
   "id": "c48f0db8",
   "metadata": {
    "papermill": {
     "duration": 0.019227,
     "end_time": "2024-05-19T08:01:55.674063",
     "exception": false,
     "start_time": "2024-05-19T08:01:55.654836",
     "status": "completed"
    },
    "tags": []
   },
   "source": [
    "# **Calculate Cohen's Kappa score**"
   ]
  },
  {
   "cell_type": "code",
   "execution_count": 29,
   "id": "412ad390",
   "metadata": {
    "execution": {
     "iopub.execute_input": "2024-05-19T08:01:55.715613Z",
     "iopub.status.busy": "2024-05-19T08:01:55.715225Z",
     "iopub.status.idle": "2024-05-19T08:01:55.723275Z",
     "shell.execute_reply": "2024-05-19T08:01:55.721806Z"
    },
    "papermill": {
     "duration": 0.0318,
     "end_time": "2024-05-19T08:01:55.725370",
     "exception": false,
     "start_time": "2024-05-19T08:01:55.693570",
     "status": "completed"
    },
    "tags": []
   },
   "outputs": [
    {
     "name": "stdout",
     "output_type": "stream",
     "text": [
      "Cohen's Kappa Score: 0.4232818680971526\n"
     ]
    }
   ],
   "source": [
    "from sklearn.metrics import cohen_kappa_score, accuracy_score\n",
    "kappa_score = cohen_kappa_score(y_valid, y_pred, weights='quadratic')\n",
    "print(\"Cohen's Kappa Score:\", kappa_score)"
   ]
  },
  {
   "cell_type": "markdown",
   "id": "91e415ea",
   "metadata": {
    "papermill": {
     "duration": 0.020274,
     "end_time": "2024-05-19T08:01:55.765404",
     "exception": false,
     "start_time": "2024-05-19T08:01:55.745130",
     "status": "completed"
    },
    "tags": []
   },
   "source": [
    "# **Calculate accuracy**"
   ]
  },
  {
   "cell_type": "code",
   "execution_count": 30,
   "id": "37f49ebe",
   "metadata": {
    "execution": {
     "iopub.execute_input": "2024-05-19T08:01:55.806440Z",
     "iopub.status.busy": "2024-05-19T08:01:55.806067Z",
     "iopub.status.idle": "2024-05-19T08:01:55.812192Z",
     "shell.execute_reply": "2024-05-19T08:01:55.811156Z"
    },
    "papermill": {
     "duration": 0.029659,
     "end_time": "2024-05-19T08:01:55.814737",
     "exception": false,
     "start_time": "2024-05-19T08:01:55.785078",
     "status": "completed"
    },
    "tags": []
   },
   "outputs": [
    {
     "name": "stdout",
     "output_type": "stream",
     "text": [
      "Accuracy: 0.15395725014442518\n"
     ]
    }
   ],
   "source": [
    "accuracy = accuracy_score(y_valid, y_pred)\n",
    "print(\"Accuracy:\", accuracy)"
   ]
  },
  {
   "cell_type": "markdown",
   "id": "d1277b1e",
   "metadata": {
    "papermill": {
     "duration": 0.019723,
     "end_time": "2024-05-19T08:01:55.854206",
     "exception": false,
     "start_time": "2024-05-19T08:01:55.834483",
     "status": "completed"
    },
    "tags": []
   },
   "source": [
    "# **Plot actual vs predicted values**"
   ]
  },
  {
   "cell_type": "code",
   "execution_count": 31,
   "id": "db9dec81",
   "metadata": {
    "execution": {
     "iopub.execute_input": "2024-05-19T08:01:55.895381Z",
     "iopub.status.busy": "2024-05-19T08:01:55.894920Z",
     "iopub.status.idle": "2024-05-19T08:01:56.259891Z",
     "shell.execute_reply": "2024-05-19T08:01:56.258667Z"
    },
    "papermill": {
     "duration": 0.388438,
     "end_time": "2024-05-19T08:01:56.262337",
     "exception": false,
     "start_time": "2024-05-19T08:01:55.873899",
     "status": "completed"
    },
    "tags": []
   },
   "outputs": [
    {
     "data": {
      "image/png": "[encoded data removed]",
      "text/plain": [
       "<Figure size 800x600 with 1 Axes>"
      ]
     },
     "metadata": {},
     "output_type": "display_data"
    }
   ],
   "source": [
    "plt.figure(figsize=(8, 6))\n",
    "plt.scatter(y_valid, y_pred, color='blue')\n",
    "plt.plot([min(y_valid), max(y_valid)], [min(y_valid), max(y_valid)], color='red', linestyle='--')\n",
    "plt.xlabel('Actual')\n",
    "plt.ylabel('Predicted')\n",
    "plt.title('Actual vs Predicted')\n",
    "plt.grid(True)\n",
    "plt.show()"
   ]
  },
  {
   "cell_type": "markdown",
   "id": "40708fe6",
   "metadata": {
    "papermill": {
     "duration": 0.020107,
     "end_time": "2024-05-19T08:01:56.303287",
     "exception": false,
     "start_time": "2024-05-19T08:01:56.283180",
     "status": "completed"
    },
    "tags": []
   },
   "source": [
    "# **Plot histogram of actual and predicted values**"
   ]
  },
  {
   "cell_type": "code",
   "execution_count": 32,
   "id": "623ff1b8",
   "metadata": {
    "execution": {
     "iopub.execute_input": "2024-05-19T08:01:56.346028Z",
     "iopub.status.busy": "2024-05-19T08:01:56.345590Z",
     "iopub.status.idle": "2024-05-19T08:01:56.727070Z",
     "shell.execute_reply": "2024-05-19T08:01:56.725895Z"
    },
    "papermill": {
     "duration": 0.406333,
     "end_time": "2024-05-19T08:01:56.729907",
     "exception": false,
     "start_time": "2024-05-19T08:01:56.323574",
     "status": "completed"
    },
    "tags": []
   },
   "outputs": [
    {
     "data": {
      "image/png": "[encoded data removed]",
      "text/plain": [
       "<Figure size 800x600 with 1 Axes>"
      ]
     },
     "metadata": {},
     "output_type": "display_data"
    }
   ],
   "source": [
    "plt.figure(figsize=(8, 6))\n",
    "plt.hist(y_valid, bins=10, alpha=0.5, label='Actual', color='blue')\n",
    "plt.hist(y_pred, bins=10, alpha=0.5, label='Predicted', color='orange')\n",
    "plt.xlabel('Score')\n",
    "plt.ylabel('Frequency')\n",
    "plt.title('Distribution of Actual and Predicted Scores')\n",
    "plt.legend()\n",
    "plt.grid(True)\n",
    "plt.show()"
   ]
  },
  {
   "cell_type": "markdown",
   "id": "eaf998c6",
   "metadata": {
    "papermill": {
     "duration": 0.020814,
     "end_time": "2024-05-19T08:01:56.771608",
     "exception": false,
     "start_time": "2024-05-19T08:01:56.750794",
     "status": "completed"
    },
    "tags": []
   },
   "source": [
    "# **Make predictions on the test set**"
   ]
  },
  {
   "cell_type": "code",
   "execution_count": 33,
   "id": "cfb6f063",
   "metadata": {
    "execution": {
     "iopub.execute_input": "2024-05-19T08:01:56.815710Z",
     "iopub.status.busy": "2024-05-19T08:01:56.815027Z",
     "iopub.status.idle": "2024-05-19T08:01:56.822846Z",
     "shell.execute_reply": "2024-05-19T08:01:56.822038Z"
    },
    "papermill": {
     "duration": 0.032563,
     "end_time": "2024-05-19T08:01:56.825151",
     "exception": false,
     "start_time": "2024-05-19T08:01:56.792588",
     "status": "completed"
    },
    "tags": []
   },
   "outputs": [],
   "source": [
    "predictions = model.predict(X_test)"
   ]
  },
  {
   "cell_type": "code",
   "execution_count": 34,
   "id": "db06dc82",
   "metadata": {
    "execution": {
     "iopub.execute_input": "2024-05-19T08:01:56.869294Z",
     "iopub.status.busy": "2024-05-19T08:01:56.868599Z",
     "iopub.status.idle": "2024-05-19T08:01:56.874931Z",
     "shell.execute_reply": "2024-05-19T08:01:56.873553Z"
    },
    "papermill": {
     "duration": 0.031267,
     "end_time": "2024-05-19T08:01:56.877259",
     "exception": false,
     "start_time": "2024-05-19T08:01:56.845992",
     "status": "completed"
    },
    "tags": []
   },
   "outputs": [
    {
     "name": "stdout",
     "output_type": "stream",
     "text": [
      "Predicted values on the test set:\n",
      "[3 2 3]\n"
     ]
    }
   ],
   "source": [
    "print(\"Predicted values on the test set:\")\n",
    "print(predictions)"
   ]
  },
  {
   "cell_type": "markdown",
   "id": "64d6bb3a",
   "metadata": {
    "papermill": {
     "duration": 0.020533,
     "end_time": "2024-05-19T08:01:56.918739",
     "exception": false,
     "start_time": "2024-05-19T08:01:56.898206",
     "status": "completed"
    },
    "tags": []
   },
   "source": [
    "# **Inverse transform the predictions**"
   ]
  },
  {
   "cell_type": "code",
   "execution_count": 35,
   "id": "8e30af06",
   "metadata": {
    "execution": {
     "iopub.execute_input": "2024-05-19T08:01:56.962366Z",
     "iopub.status.busy": "2024-05-19T08:01:56.961929Z",
     "iopub.status.idle": "2024-05-19T08:01:56.967863Z",
     "shell.execute_reply": "2024-05-19T08:01:56.966531Z"
    },
    "papermill": {
     "duration": 0.030603,
     "end_time": "2024-05-19T08:01:56.970288",
     "exception": false,
     "start_time": "2024-05-19T08:01:56.939685",
     "status": "completed"
    },
    "tags": []
   },
   "outputs": [],
   "source": [
    "predictions = le.inverse_transform(predictions)"
   ]
  },
  {
   "cell_type": "code",
   "execution_count": 36,
   "id": "79808b9f",
   "metadata": {
    "execution": {
     "iopub.execute_input": "2024-05-19T08:01:57.015300Z",
     "iopub.status.busy": "2024-05-19T08:01:57.013989Z",
     "iopub.status.idle": "2024-05-19T08:01:57.020835Z",
     "shell.execute_reply": "2024-05-19T08:01:57.019656Z"
    },
    "papermill": {
     "duration": 0.031577,
     "end_time": "2024-05-19T08:01:57.022994",
     "exception": false,
     "start_time": "2024-05-19T08:01:56.991417",
     "status": "completed"
    },
    "tags": []
   },
   "outputs": [
    {
     "data": {
      "text/plain": [
       "array([4, 3, 4])"
      ]
     },
     "execution_count": 36,
     "metadata": {},
     "output_type": "execute_result"
    }
   ],
   "source": [
    "predictions"
   ]
  },
  {
   "cell_type": "markdown",
   "id": "428dc731",
   "metadata": {
    "papermill": {
     "duration": 0.020792,
     "end_time": "2024-05-19T08:01:57.064864",
     "exception": false,
     "start_time": "2024-05-19T08:01:57.044072",
     "status": "completed"
    },
    "tags": []
   },
   "source": [
    "# **Plot distribution of predicted scores**"
   ]
  },
  {
   "cell_type": "code",
   "execution_count": 37,
   "id": "ed8d9cfa",
   "metadata": {
    "execution": {
     "iopub.execute_input": "2024-05-19T08:01:57.108748Z",
     "iopub.status.busy": "2024-05-19T08:01:57.108293Z",
     "iopub.status.idle": "2024-05-19T08:01:57.278273Z",
     "shell.execute_reply": "2024-05-19T08:01:57.276676Z"
    },
    "papermill": {
     "duration": 0.196824,
     "end_time": "2024-05-19T08:01:57.282745",
     "exception": false,
     "start_time": "2024-05-19T08:01:57.085921",
     "status": "completed"
    },
    "tags": []
   },
   "outputs": [
    {
     "data": {
      "image/png": "[encoded data removed]",
      "text/plain": [
       "<Figure size 800x600 with 1 Axes>"
      ]
     },
     "metadata": {},
     "output_type": "display_data"
    }
   ],
   "source": [
    "score_counts = pd.Series(predictions).value_counts()\n",
    "plt.figure(figsize=(8, 6))\n",
    "plt.pie(score_counts, labels=score_counts.index, autopct='%1.1f%%', startangle=140)\n",
    "plt.title('Distribution of Predicted Scores')\n",
    "plt.axis('equal')\n",
    "plt.show()"
   ]
  },
  {
   "cell_type": "markdown",
   "id": "6a3dacf6",
   "metadata": {
    "papermill": {
     "duration": 0.021452,
     "end_time": "2024-05-19T08:01:57.340794",
     "exception": false,
     "start_time": "2024-05-19T08:01:57.319342",
     "status": "completed"
    },
    "tags": []
   },
   "source": [
    "# **submission**"
   ]
  },
  {
   "cell_type": "code",
   "execution_count": 38,
   "id": "d93f3d33",
   "metadata": {
    "execution": {
     "iopub.execute_input": "2024-05-19T08:01:57.386239Z",
     "iopub.status.busy": "2024-05-19T08:01:57.385480Z",
     "iopub.status.idle": "2024-05-19T08:01:57.394404Z",
     "shell.execute_reply": "2024-05-19T08:01:57.393243Z"
    },
    "papermill": {
     "duration": 0.034409,
     "end_time": "2024-05-19T08:01:57.396885",
     "exception": false,
     "start_time": "2024-05-19T08:01:57.362476",
     "status": "completed"
    },
    "tags": []
   },
   "outputs": [],
   "source": [
    "submission = pd.DataFrame({'essay_id': test.index, 'score': predictions})\n",
    "submission.to_csv('submission.csv', index=False)"
   ]
  }
 ],
 "metadata": {
  "kaggle": {
   "accelerator": "none",
   "dataSources": [
    {
     "databundleVersionId": 8059942,
     "sourceId": 71485,
     "sourceType": "competition"
    },
    {
     "sourceId": 145546197,
     "sourceType": "kernelVersion"
    }
   ],
   "dockerImageVersionId": 30698,
   "isGpuEnabled": false,
   "isInternetEnabled": false,
   "language": "python",
   "sourceType": "notebook"
  },
  "kernelspec": {
   "display_name": "Python 3",
   "language": "python",
   "name": "python3"
  },
  "language_info": {
   "codemirror_mode": {
    "name": "ipython",
    "version": 3
   },
   "file_extension": ".py",
   "mimetype": "text/x-python",
   "name": "python",
   "nbconvert_exporter": "python",
   "pygments_lexer": "ipython3",
   "version": "3.10.13"
  },
  "papermill": {
   "default_parameters": {},
   "duration": 141.614089,
   "end_time": "2024-05-19T08:01:58.443146",
   "environment_variables": {},
   "exception": null,
   "input_path": "__notebook__.ipynb",
   "output_path": "__notebook__.ipynb",
   "parameters": {},
   "start_time": "2024-05-19T07:59:36.829057",
   "version": "2.5.0"
  }
 },
 "nbformat": 4,
 "nbformat_minor": 5
}
